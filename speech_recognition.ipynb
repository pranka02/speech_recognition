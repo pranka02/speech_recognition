{
 "cells": [
  {
   "cell_type": "code",
   "execution_count": 1,
   "metadata": {},
   "outputs": [],
   "source": [
    "import numpy as np\n",
    "import pandas as pd\n",
    "import sklearn.preprocessing\n",
    "from sklearn.tree import DecisionTreeClassifier\n",
    "from sklearn.ensemble import AdaBoostClassifier, RandomForestClassifier\n",
    "from sklearn.neighbors import KNeighborsClassifier\n",
    "from sklearn import decomposition\n",
    "from sklearn.utils import shuffle\n",
    "from sklearn.preprocessing import LabelEncoder"
   ]
  },
  {
   "cell_type": "code",
   "execution_count": 2,
   "metadata": {},
   "outputs": [],
   "source": [
    "df = pd.read_csv('train/features.csv',header = None)\n",
    "df.head(6)"
   ]
  },
  {
   "cell_type": "code",
   "execution_count": 3,
   "metadata": {},
   "outputs": [],
   "source": [
    "df = shuffle(df)\n",
    "df.head(6)"
   ]
  },
  {
   "cell_type": "markdown",
   "metadata": {},
   "source": [
    "# Partitioning Data"
   ]
  },
  {
   "cell_type": "code",
   "execution_count": 4,
   "metadata": {},
   "outputs": [],
   "source": [
    "tr = 60000\n",
    "\n",
    "features = np.array(df)\n",
    "tr_x = features[:tr,0:1024]\n",
    "tr_y = features[:tr,1025]\n",
    "val_x = features[tr:,0:1024]\n",
    "val_y = features[tr:,1025]"
   ]
  },
  {
   "cell_type": "markdown",
   "metadata": {},
   "source": [
    "# Preprocessing"
   ]
  },
  {
   "cell_type": "code",
   "execution_count": 5,
   "metadata": {},
   "outputs": [],
   "source": [
    "tr_mean = np.mean(tr_x, axis=0)\n",
    "tr_std = np.std(tr_x, axis = 0,dtype=np.float32)\n",
    "tr_xp = (tr_x - tr_mean[None,:])/tr_std[None,:]\n",
    "\n",
    "val_mean = np.mean(val_x, axis=0)\n",
    "val_std = np.std(val_x, axis = 0,dtype=np.float32)\n",
    "val_xp = (val_x - val_mean[None,:])/val_std[None,:]\n",
    "\n",
    "lab = LabelEncoder()\n",
    "tr_yp= lab.fit_transform(tr_y)\n",
    "val_yp= lab.fit_transform(val_y)\n",
    "\n",
    "n_words= np.unique(tr_yp)\n",
    "n_classes = len(n_words)\n",
    "n_features = tr_xp.shape[1]\n",
    "\n",
    "label_binarizer = sklearn.preprocessing.LabelBinarizer()\n",
    "label_binarizer.fit(range(n_classes))\n",
    "tr_yoh = label_binarizer.transform(tr_yp)\n",
    "val_yoh = label_binarizer.transform(val_yp)"
   ]
  },
  {
   "cell_type": "markdown",
   "metadata": {},
   "source": [
    "# Supervised Learning"
   ]
  },
  {
   "cell_type": "markdown",
   "metadata": {},
   "source": [
    "# AdaBoost Ensemble"
   ]
  },
  {
   "cell_type": "code",
   "execution_count": 10,
   "metadata": {},
   "outputs": [
    {
     "data": {
      "text/plain": [
       "0.13995705641225845"
      ]
     },
     "execution_count": 10,
     "metadata": {},
     "output_type": "execute_result"
    }
   ],
   "source": [
    "ada_class = AdaBoostClassifier()\n",
    "ada_class.fit(tr_xp, tr_yp)\n",
    "ada_class.score(val_xp, val_yp)"
   ]
  },
  {
   "cell_type": "markdown",
   "metadata": {},
   "source": [
    "# Random Forest"
   ]
  },
  {
   "cell_type": "code",
   "execution_count": 11,
   "metadata": {},
   "outputs": [
    {
     "data": {
      "text/plain": [
       "0.23248096818270544"
      ]
     },
     "execution_count": 11,
     "metadata": {},
     "output_type": "execute_result"
    }
   ],
   "source": [
    "rf_class = RandomForestClassifier()\n",
    "rf_class.fit(tr_xp, tr_yp)\n",
    "rf_class.score(val_xp, val_yp)"
   ]
  },
  {
   "cell_type": "markdown",
   "metadata": {},
   "source": [
    "# K-NN"
   ]
  },
  {
   "cell_type": "code",
   "execution_count": 12,
   "metadata": {},
   "outputs": [
    {
     "data": {
      "text/plain": [
       "0.24731602576615264"
      ]
     },
     "execution_count": 12,
     "metadata": {},
     "output_type": "execute_result"
    }
   ],
   "source": [
    "knn_class = KNeighborsClassifier()\n",
    "rf_class.fit(tr_xp, tr_yp)\n",
    "rf_class.score(val_xp, val_yp)"
   ]
  },
  {
   "cell_type": "markdown",
   "metadata": {},
   "source": [
    "# Principal Component Analysis"
   ]
  },
  {
   "cell_type": "code",
   "execution_count": 9,
   "metadata": {},
   "outputs": [],
   "source": [
    "pca = decomposition.PCA(n_components =120)\n",
    "pca.fit(tr_xp)\n",
    "tr_pca = pca.transform(tr_xp)\n",
    "val_pca = pca.transform(val_xp)"
   ]
  },
  {
   "cell_type": "code",
   "execution_count": 10,
   "metadata": {},
   "outputs": [
    {
     "data": {
      "text/plain": [
       "0.35369900448955688"
      ]
     },
     "execution_count": 10,
     "metadata": {},
     "output_type": "execute_result"
    }
   ],
   "source": [
    "knn_class = KNeighborsClassifier()\n",
    "knn_class.fit(tr_pca, tr_yp)\n",
    "knn_class.score(val_pca, val_yp)"
   ]
  },
  {
   "cell_type": "code",
   "execution_count": 11,
   "metadata": {},
   "outputs": [
    {
     "data": {
      "text/plain": [
       "0.22486824126488386"
      ]
     },
     "execution_count": 11,
     "metadata": {},
     "output_type": "execute_result"
    }
   ],
   "source": [
    "rf_class = RandomForestClassifier()\n",
    "rf_class.fit(tr_pca, tr_yp)\n",
    "rf_class.score(val_pca, val_yp)"
   ]
  },
  {
   "cell_type": "code",
   "execution_count": null,
   "metadata": {},
   "outputs": [],
   "source": []
  }
 ],
 "metadata": {
  "kernelspec": {
   "display_name": "Python 3",
   "language": "python",
   "name": "python3"
  },
  "language_info": {
   "codemirror_mode": {
    "name": "ipython",
    "version": 3
   },
   "file_extension": ".py",
   "mimetype": "text/x-python",
   "name": "python",
   "nbconvert_exporter": "python",
   "pygments_lexer": "ipython3",
   "version": "3.5.2"
  }
 },
 "nbformat": 4,
 "nbformat_minor": 2
}
